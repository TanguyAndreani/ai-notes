{
 "cells": [
  {
   "cell_type": "markdown",
   "id": "9f7311a7-e8b7-4ab1-a5c0-2b4c0579a127",
   "metadata": {},
   "source": [
    "# Getting started with Python's pandas\n",
    "\n",
    "I'm going to work with very basic data stored in XLSX files."
   ]
  },
  {
   "cell_type": "code",
   "execution_count": 1,
   "id": "e2f3f247-ace7-431f-a519-302aa0e4ed95",
   "metadata": {},
   "outputs": [],
   "source": [
    "import numpy as np"
   ]
  },
  {
   "cell_type": "code",
   "execution_count": 2,
   "id": "fbcfbb20-c180-4157-a06a-a9cfa3f43a5b",
   "metadata": {},
   "outputs": [],
   "source": [
    "import pandas as pd"
   ]
  },
  {
   "cell_type": "markdown",
   "id": "49b57ead-61e6-4bc6-84a3-e49751db2194",
   "metadata": {},
   "source": [
    "## \"Data alignment is intrinsic\""
   ]
  },
  {
   "cell_type": "code",
   "execution_count": 3,
   "id": "c7e910a7-6d6e-4797-9962-9d45730f3835",
   "metadata": {},
   "outputs": [],
   "source": [
    "s = pd.Series(5.0, index=[\"a\", \"b\", \"c\", \"d\", \"e\"])"
   ]
  },
  {
   "cell_type": "code",
   "execution_count": 4,
   "id": "16f74683-f4a0-4f20-a193-a40054b849d1",
   "metadata": {},
   "outputs": [
    {
     "name": "stdout",
     "output_type": "stream",
     "text": [
      "a    148.413159\n",
      "b    148.413159\n",
      "c    148.413159\n",
      "d    148.413159\n",
      "e    148.413159\n",
      "dtype: float64\n"
     ]
    }
   ],
   "source": [
    "s = np.exp(s)\n",
    "print(s)"
   ]
  },
  {
   "cell_type": "code",
   "execution_count": 5,
   "id": "19546354-3930-4cba-ad54-0f9910bd043d",
   "metadata": {},
   "outputs": [
    {
     "data": {
      "text/plain": [
       "a           NaN\n",
       "b    296.826318\n",
       "c    296.826318\n",
       "d    296.826318\n",
       "e           NaN\n",
       "dtype: float64"
      ]
     },
     "execution_count": 5,
     "metadata": {},
     "output_type": "execute_result"
    }
   ],
   "source": [
    "s[1:] + s[:-1]"
   ]
  },
  {
   "cell_type": "markdown",
   "id": "ba1ba1c4-9819-4e61-9d6c-8d44377cd5e7",
   "metadata": {},
   "source": [
    "We could have expected something like this instead:\n",
    "\n",
    "```\n",
    "a    296.826318\n",
    "b    296.826318\n",
    "c    296.826318\n",
    "d           NaN\n",
    "e           NaN\n",
    "dtype: float64\n",
    "```\n",
    "\n",
    "But it's not because pandas tries its best to not break the link between labels and data, so that `s[1:]['d']` is added with `s[:-1]['d']` instead of `c`.\n",
    "\n",
    "The same thing with an array: `[1, 2, 3, 4, 5][1:] + [1, 2, 3, 4, 5][:-1] -> [2+1, 3+2, ...]`, *data at index x is not added to data at index x*."
   ]
  },
  {
   "cell_type": "markdown",
   "id": "53b7fc00-3484-45df-a500-365eca0bc33d",
   "metadata": {
    "tags": []
   },
   "source": [
    "## Series\n",
    "\n",
    "- one-dimensional\n",
    "- holds any data type (int, strings, Python objects...)\n",
    "- each dimension has a label, the collection of every labels of a series are called the index.\n",
    "- dicts can be instantiated from [many](https://pandas.pydata.org/pandas-docs/stable/user_guide/dsintro.html?highlight=alignment#series) data types"
   ]
  }
 ],
 "metadata": {
  "kernelspec": {
   "display_name": "Python 3 (ipykernel)",
   "language": "python",
   "name": "python3"
  },
  "language_info": {
   "codemirror_mode": {
    "name": "ipython",
    "version": 3
   },
   "file_extension": ".py",
   "mimetype": "text/x-python",
   "name": "python",
   "nbconvert_exporter": "python",
   "pygments_lexer": "ipython3",
   "version": "3.9.12"
  }
 },
 "nbformat": 4,
 "nbformat_minor": 5
}
