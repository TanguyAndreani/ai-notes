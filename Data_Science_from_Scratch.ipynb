{
 "cells": [
  {
   "cell_type": "markdown",
   "id": "18e51b9f-0d48-4b6a-90bf-9a8b93339185",
   "metadata": {},
   "source": [
    "# Data Science from Scratch\n",
    "\n",
    "Author of the book: Joel Grus\n",
    "\n",
    "## Python's dictionaries to represent graphs"
   ]
  },
  {
   "cell_type": "code",
   "execution_count": 1,
   "id": "1b55f077-75c3-4fce-a93b-de50d5a3d7c0",
   "metadata": {},
   "outputs": [],
   "source": [
    "users = [\n",
    "    {\"id\": 0, \"name\": \"Hero\"},\n",
    "    {\"id\": 1, \"name\": \"Dunn\"},\n",
    "    {\"id\": 2, \"name\": \"Sue\"},\n",
    "    {\"id\": 3, \"name\": \"Chi\"},\n",
    "    {\"id\": 4, \"name\": \"Thor\"},\n",
    "    {\"id\": 5, \"name\": \"Clive\"},\n",
    "    {\"id\": 6, \"name\": \"Hicks\"},\n",
    "    {\"id\": 7, \"name\": \"Devin\"},\n",
    "    {\"id\": 8, \"name\": \"Kate\"},\n",
    "    {\"id\": 9, \"name\": \"Klein\"},\n",
    "]"
   ]
  },
  {
   "cell_type": "code",
   "execution_count": 2,
   "id": "e58b1b22-8d8d-4459-8d07-c0b0e3578b4c",
   "metadata": {},
   "outputs": [],
   "source": [
    "friendships_pairs = [(0, 1), (0, 2), (1, 2), (1, 3), (2, 3), (3, 4), (4,5), (5, 6), (5, 7), (6, 8), (7, 8), (8, 9)]"
   ]
  },
  {
   "cell_type": "code",
   "execution_count": 3,
   "id": "b4e64a20-753f-4136-8730-7aff12e64d62",
   "metadata": {},
   "outputs": [
    {
     "name": "stdout",
     "output_type": "stream",
     "text": [
      "{0: [], 1: [], 2: [], 3: [], 4: [], 5: [], 6: [], 7: [], 8: [], 9: []}\n"
     ]
    }
   ],
   "source": [
    "friendships = {user[\"id\"]: [] for user in users}\n",
    "print(friendships)"
   ]
  },
  {
   "cell_type": "code",
   "execution_count": 4,
   "id": "2d711373-4121-4cbe-9c84-c154c88454c6",
   "metadata": {},
   "outputs": [
    {
     "name": "stdout",
     "output_type": "stream",
     "text": [
      "{0: [1, 2], 1: [0, 2, 3], 2: [0, 1, 3], 3: [1, 2, 4], 4: [3, 5], 5: [4, 6, 7], 6: [5, 8], 7: [5, 8], 8: [6, 7, 9], 9: [8]}\n"
     ]
    }
   ],
   "source": [
    "for id1_, id2_ in friendships_pairs:\n",
    "    friendships[id2_].append(id1_)\n",
    "    friendships[id1_].append(id2_)\n",
    "print(friendships)"
   ]
  },
  {
   "cell_type": "code",
   "execution_count": 5,
   "id": "5301049b-4f84-4594-b896-34d299739675",
   "metadata": {},
   "outputs": [
    {
     "name": "stdout",
     "output_type": "stream",
     "text": [
      "24\n"
     ]
    }
   ],
   "source": [
    "def number_of_friends(user):\n",
    "    \"\"\"How many friends does _user_ have?\"\"\"\n",
    "    user_id = user[\"id\"]\n",
    "    friends_ids = friendships[user_id]\n",
    "    return len(friends_ids)\n",
    "\n",
    "total_connections = sum(number_of_friends(user) for user in users)\n",
    "print(total_connections)"
   ]
  },
  {
   "cell_type": "code",
   "execution_count": 6,
   "id": "262ad8f2-62d7-471c-a78e-a4ff65936ed8",
   "metadata": {},
   "outputs": [
    {
     "name": "stdout",
     "output_type": "stream",
     "text": [
      "2.4\n"
     ]
    }
   ],
   "source": [
    "avg_connection_per_user = total_connections/len(users)\n",
    "print(avg_connection_per_user)"
   ]
  },
  {
   "cell_type": "code",
   "execution_count": 7,
   "id": "462db055-b858-4f32-bafd-f84259ce56cd",
   "metadata": {},
   "outputs": [
    {
     "name": "stdout",
     "output_type": "stream",
     "text": [
      "[('Dunn', 3), ('Sue', 3), ('Chi', 3), ('Clive', 3), ('Kate', 3), ('Hero', 2), ('Thor', 2), ('Hicks', 2), ('Devin', 2), ('Klein', 1)]\n"
     ]
    }
   ],
   "source": [
    "num_friends_by_id = [(user[\"name\"], number_of_friends(user)) for user in users]\n",
    "num_friends_by_id.sort(\n",
    "    key=lambda kv: kv[1],\n",
    "    reverse=True)\n",
    "print(num_friends_by_id)"
   ]
  },
  {
   "cell_type": "markdown",
   "id": "deeeeb3d-4855-4182-a40b-f16fd660f68a",
   "metadata": {},
   "source": [
    "### Centrality\n",
    "\n",
    "Now we can sort our users by their amount of connections. That way, we can say that a given user is *more central* than another in the network. This is known as computing the *degree centrality* of the network. Sorting by the amount of connections is a basic idea of centrality. A node could have fewer connections but still be a more \"important\" part of the network."
   ]
  },
  {
   "cell_type": "markdown",
   "id": "fce2d076-f7b6-4424-b049-f2efa77ce456",
   "metadata": {},
   "source": [
    "### Draw the graph"
   ]
  },
  {
   "cell_type": "code",
   "execution_count": 8,
   "id": "dd2fc843-09ea-400b-8a89-7d4b3851d315",
   "metadata": {},
   "outputs": [
    {
     "data": {
      "image/png": "[encoded data removed]",
      "text/plain": [
       "<Figure size 432x288 with 1 Axes>"
      ]
     },
     "metadata": {},
     "output_type": "display_data"
    }
   ],
   "source": [
    "import networkx as nx\n",
    "\n",
    "options = {\n",
    "    'node_color': 'black',\n",
    "    'node_size': 600,\n",
    "    'width': 3,\n",
    "    'with_labels': True,\n",
    "    'font_color': \"whitesmoke\"\n",
    "}\n",
    "\n",
    "G = nx.Graph()\n",
    "\n",
    "G.add_nodes_from(user[\"id\"] for user in users)\n",
    "G.add_edges_from(friendships_pairs)\n",
    "\n",
    "nx.draw_kamada_kawai(G, **options)"
   ]
  }
 ],
 "metadata": {
  "kernelspec": {
   "display_name": "Python 3 (ipykernel)",
   "language": "python",
   "name": "python3"
  },
  "language_info": {
   "codemirror_mode": {
    "name": "ipython",
    "version": 3
   },
   "file_extension": ".py",
   "mimetype": "text/x-python",
   "name": "python",
   "nbconvert_exporter": "python",
   "pygments_lexer": "ipython3",
   "version": "3.9.12"
  }
 },
 "nbformat": 4,
 "nbformat_minor": 5
}
